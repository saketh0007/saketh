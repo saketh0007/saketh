{
  "nbformat": 4,
  "nbformat_minor": 0,
  "metadata": {
    "colab": {
      "name": "pyhton_3,4,5,6.ipynb",
      "provenance": [],
      "authorship_tag": "ABX9TyOkKujG3FtAqaHwiqilnZmF",
      "include_colab_link": true
    },
    "kernelspec": {
      "name": "python3",
      "display_name": "Python 3"
    }
  },
  "cells": [
    {
      "cell_type": "markdown",
      "metadata": {
        "id": "view-in-github",
        "colab_type": "text"
      },
      "source": [
        "<a href=\"https://colab.research.google.com/github/saketh0007/saketh/blob/master/pyhton_3%2C4%2C5%2C6.ipynb\" target=\"_parent\"><img src=\"https://colab.research.google.com/assets/colab-badge.svg\" alt=\"Open In Colab\"/></a>"
      ]
    },
    {
      "cell_type": "code",
      "metadata": {
        "id": "wGbjp88TojyP",
        "colab": {
          "base_uri": "https://localhost:8080/"
        },
        "outputId": "0419bfa8-ad89-471c-aa8e-bf9c6bf373c9"
      },
      "source": [
        "print('Hi')"
      ],
      "execution_count": 1,
      "outputs": [
        {
          "output_type": "stream",
          "text": [
            "Hi\n"
          ],
          "name": "stdout"
        }
      ]
    },
    {
      "cell_type": "markdown",
      "metadata": {
        "id": "jll-ELwKHEqs"
      },
      "source": [
        "###Mutable :\r\n",
        "* Change the value at same memory kocation \r\n",
        "* Methods to add,update and delete \r\n",
        "<hr>\r\n",
        "###Immtable:\r\n",
        "* Can not change the value at the same mem location\r\n",
        "* No methods to add update and delete \r\n",
        "<hr>\r\n",
        "\r\n",
        "Mutable\r\n",
        "1.   List\r\n",
        "2.   Set\r\n",
        "3.   Dict\r\n",
        "\r\n",
        "<hr>\r\n",
        "\r\n",
        "Immutable\r\n",
        "1.   Tupple\r\n",
        "2.   Str\r\n",
        "3.   float\r\n",
        "4.   bool\r\n",
        "5.   int\r\n",
        " \r\n",
        "<hr>\r\n",
        "### Iterable Data types:\r\n",
        "* List\r\n",
        "* set\r\n",
        "* Tupple\r\n",
        "* Str\r\n",
        "* Dict \r\n",
        "\r\n",
        "1.   List item\r\n",
        "2.   List item\r\n",
        "\r\n",
        "\r\n",
        "\r\n",
        "<hr>\r\n",
        "Non-Iterable data types\r\n",
        "* Int \r\n",
        "* Float\r\n",
        "* Bool\r\n",
        "\r\n",
        "\r\n",
        "\r\n",
        "\r\n",
        "\r\n",
        "\r\n",
        "\r\n",
        "\r\n",
        "\r\n",
        "\r\n",
        "\r\n",
        "\r\n",
        "\r\n",
        "\r\n"
      ]
    },
    {
      "cell_type": "code",
      "metadata": {
        "colab": {
          "base_uri": "https://localhost:8080/"
        },
        "id": "crHEz7fIG-6p",
        "outputId": "295b1695-0f9d-4e49-81c8-5431024f3b3c"
      },
      "source": [
        "#Looping Statements \r\n",
        "chars = 'abcde'\r\n",
        "for char in chars:\r\n",
        "    if char in[\"a\",'e','i','o','u']:\r\n",
        "        print('Vowel')\r\n",
        "    else:\r\n",
        "        print('consonent')"
      ],
      "execution_count": 3,
      "outputs": [
        {
          "output_type": "stream",
          "text": [
            "Vowel\n",
            "consonent\n",
            "consonent\n",
            "consonent\n",
            "Vowel\n"
          ],
          "name": "stdout"
        }
      ]
    },
    {
      "cell_type": "code",
      "metadata": {
        "colab": {
          "base_uri": "https://localhost:8080/"
        },
        "id": "i5ZV7aqHKD_C",
        "outputId": "156cafe8-11fb-4912-dfe4-aa00c3892287"
      },
      "source": [
        "l = [10,15,20,25,35,40,45]\r\n",
        "for value in l:\r\n",
        "    if value % 2 == 0:\r\n",
        "        print(value ,'is even', value**2,'\\n')\r\n",
        "    else:\r\n",
        "        print(value,'value is odd',value**3,'\\n')\r\n",
        "    \r\n",
        "\r\n"
      ],
      "execution_count": 13,
      "outputs": [
        {
          "output_type": "stream",
          "text": [
            "10 is even 100 \n",
            "\n",
            "15 value is odd 3375 \n",
            "\n",
            "20 is even 400 \n",
            "\n",
            "25 value is odd 15625 \n",
            "\n",
            "35 value is odd 42875 \n",
            "\n",
            "40 is even 1600 \n",
            "\n",
            "45 value is odd 91125 \n",
            "\n"
          ],
          "name": "stdout"
        }
      ]
    },
    {
      "cell_type": "code",
      "metadata": {
        "colab": {
          "base_uri": "https://localhost:8080/"
        },
        "id": "1e3VtQ_hKr9E",
        "outputId": "8c1a4100-1625-4c15-f03b-ceaa7d26132f"
      },
      "source": [
        "l = [10,20,30,40,50]\r\n",
        "sum = 0 \r\n",
        "for value in l:\r\n",
        "    sum = sum+value \r\n",
        "    print('During Iteration ----->',sum)\r\n",
        "print(sum)"
      ],
      "execution_count": 16,
      "outputs": [
        {
          "output_type": "stream",
          "text": [
            "During Iteration -----> 10\n",
            "During Iteration -----> 30\n",
            "During Iteration -----> 60\n",
            "During Iteration -----> 100\n",
            "During Iteration -----> 150\n",
            "150\n"
          ],
          "name": "stdout"
        }
      ]
    },
    {
      "cell_type": "code",
      "metadata": {
        "colab": {
          "base_uri": "https://localhost:8080/"
        },
        "id": "mN3XmWzfLhW9",
        "outputId": "52340599-c8ca-47b6-8033-96b520c7d004"
      },
      "source": [
        "sum = 0\r\n",
        "num = 6\r\n",
        "possible_devisors = [1,2,3,4,5,]\r\n",
        "for value in possible_devisors:\r\n",
        "    if num % value  == 0:\r\n",
        "        sum = sum+value\r\n",
        "print(sum)\r\n",
        "if num == sum:\r\n",
        "    print('perfect number')\r\n",
        "else:\r\n",
        "    print('not a perfect number')"
      ],
      "execution_count": 19,
      "outputs": [
        {
          "output_type": "stream",
          "text": [
            "6\n",
            "perfect number\n"
          ],
          "name": "stdout"
        }
      ]
    },
    {
      "cell_type": "code",
      "metadata": {
        "id": "_gtU4JswMYUL"
      },
      "source": [
        "# Enumerate we will get access to index and value \r\n",
        "\r\n"
      ],
      "execution_count": 20,
      "outputs": []
    },
    {
      "cell_type": "code",
      "metadata": {
        "colab": {
          "base_uri": "https://localhost:8080/"
        },
        "id": "qFXRnUfkNDFT",
        "outputId": "c71d2367-ef3d-4379-c2e1-c986b632853e"
      },
      "source": [
        "l = [10,20,30,40,50,60,70]\r\n",
        "key = 600\r\n",
        "flag = False\r\n",
        "for value in l:\r\n",
        "    if key == value:\r\n",
        "        flag = True \r\n",
        "        break #Linear search \r\n",
        "    else:\r\n",
        "        continue\r\n",
        "if flag:\r\n",
        "    print('element is present')\r\n",
        "else :\r\n",
        "    print('element is not present')"
      ],
      "execution_count": 24,
      "outputs": [
        {
          "output_type": "stream",
          "text": [
            "element is not present\n"
          ],
          "name": "stdout"
        }
      ]
    },
    {
      "cell_type": "code",
      "metadata": {
        "colab": {
          "base_uri": "https://localhost:8080/"
        },
        "id": "VljjVzygNxCb",
        "outputId": "1a149a39-4156-42f7-ac8d-c15eb7ed740f"
      },
      "source": [
        "#in python we dont use flag \r\n",
        "for index,value in enumerate(l):\r\n",
        "    if key == value:\r\n",
        "        print('element is present')\r\n",
        "        break\r\n",
        "else: \r\n",
        "    print('element is not present') # look at the indentation"
      ],
      "execution_count": 25,
      "outputs": [
        {
          "output_type": "stream",
          "text": [
            "element is not present\n"
          ],
          "name": "stdout"
        }
      ]
    },
    {
      "cell_type": "markdown",
      "metadata": {
        "id": "Sf6FUz57OgrF"
      },
      "source": [
        "# Session 6\r\n"
      ]
    },
    {
      "cell_type": "code",
      "metadata": {
        "colab": {
          "base_uri": "https://localhost:8080/"
        },
        "id": "EfxmW-r8OUyN",
        "outputId": "42d23911-cb20-4e32-b6e7-2087d3c97824"
      },
      "source": [
        "sum = 0 \r\n",
        "sum = sum +10 \r\n",
        "sum = sum + 20\r\n",
        "sum = sum + 30\r\n",
        "print(sum)"
      ],
      "execution_count": 27,
      "outputs": [
        {
          "output_type": "stream",
          "text": [
            "60\n"
          ],
          "name": "stdout"
        }
      ]
    },
    {
      "cell_type": "code",
      "metadata": {
        "colab": {
          "base_uri": "https://localhost:8080/"
        },
        "id": "_ppXXcOnO0RE",
        "outputId": "8042d86a-3e26-423c-d045-d9054f33af0d"
      },
      "source": [
        "max = 0 \r\n",
        "for value in l :\r\n",
        "    if value > max: \r\n",
        "        max = value \r\n",
        "        print('in iteration -------->',max)\r\n",
        "\r\n",
        "print(max)"
      ],
      "execution_count": 31,
      "outputs": [
        {
          "output_type": "stream",
          "text": [
            "in iteration --------> 10\n",
            "in iteration --------> 20\n",
            "in iteration --------> 30\n",
            "in iteration --------> 40\n",
            "in iteration --------> 50\n",
            "in iteration --------> 60\n",
            "in iteration --------> 70\n",
            "70\n"
          ],
          "name": "stdout"
        }
      ]
    },
    {
      "cell_type": "code",
      "metadata": {
        "colab": {
          "base_uri": "https://localhost:8080/"
        },
        "id": "cg7Ymq_aPGTM",
        "outputId": "664b1186-33d3-47fa-ca54-6dfdc6064a47"
      },
      "source": [
        "# Finding max1 and max 2\r\n",
        "l = [10,20,30,40,50,60,70]\r\n",
        "\r\n",
        "max1= 0 \r\n",
        "max2 = 0 \r\n",
        "for value in l:\r\n",
        "    if value > max1 and value > max2:\r\n",
        "\r\n",
        "        max2 = max1\r\n",
        "        max1 = value \r\n",
        "    elif value < max1 and value > max2:\r\n",
        "        max2 = value \r\n",
        "print(max1,max2)"
      ],
      "execution_count": 39,
      "outputs": [
        {
          "output_type": "stream",
          "text": [
            "70 60\n"
          ],
          "name": "stdout"
        }
      ]
    },
    {
      "cell_type": "code",
      "metadata": {
        "colab": {
          "base_uri": "https://localhost:8080/"
        },
        "id": "Zytt9l54TJwt",
        "outputId": "767e5e8e-2b39-4f97-b5b7-123c27828455"
      },
      "source": [
        "for value1 in range (1,11):\r\n",
        "    for value2 in range(1,6):\r\n",
        "        print(value1,value2, end = '\\t')\r\n",
        "        print(value1*value2,end = '\\t')"
      ],
      "execution_count": 44,
      "outputs": [
        {
          "output_type": "stream",
          "text": [
            "1 1\t1\t1 2\t2\t1 3\t3\t1 4\t4\t1 5\t5\t2 1\t2\t2 2\t4\t2 3\t6\t2 4\t8\t2 5\t10\t3 1\t3\t3 2\t6\t3 3\t9\t3 4\t12\t3 5\t15\t4 1\t4\t4 2\t8\t4 3\t12\t4 4\t16\t4 5\t20\t5 1\t5\t5 2\t10\t5 3\t15\t5 4\t20\t5 5\t25\t6 1\t6\t6 2\t12\t6 3\t18\t6 4\t24\t6 5\t30\t7 1\t7\t7 2\t14\t7 3\t21\t7 4\t28\t7 5\t35\t8 1\t8\t8 2\t16\t8 3\t24\t8 4\t32\t8 5\t40\t9 1\t9\t9 2\t18\t9 3\t27\t9 4\t36\t9 5\t45\t10 1\t10\t10 2\t20\t10 3\t30\t10 4\t40\t10 5\t50\t"
          ],
          "name": "stdout"
        }
      ]
    },
    {
      "cell_type": "code",
      "metadata": {
        "colab": {
          "base_uri": "https://localhost:8080/"
        },
        "id": "EiJTBdFLT2_b",
        "outputId": "3b73cbed-84c8-4259-d0e3-6d3f3e60954a"
      },
      "source": [
        "for value1 in range (1,11):\r\n",
        "    for value2 in range(1,6):\r\n",
        "        #print(value1,value2, end = '\\t')\r\n",
        "        print(value1*value2,end = '\\t')"
      ],
      "execution_count": 45,
      "outputs": [
        {
          "output_type": "stream",
          "text": [
            "1\t2\t3\t4\t5\t2\t4\t6\t8\t10\t3\t6\t9\t12\t15\t4\t8\t12\t16\t20\t5\t10\t15\t20\t25\t6\t12\t18\t24\t30\t7\t14\t21\t28\t35\t8\t16\t24\t32\t40\t9\t18\t27\t36\t45\t10\t20\t30\t40\t50\t"
          ],
          "name": "stdout"
        }
      ]
    },
    {
      "cell_type": "code",
      "metadata": {
        "colab": {
          "base_uri": "https://localhost:8080/"
        },
        "id": "uc8YRn8cUdem",
        "outputId": "9aeea744-1771-4952-af63-04ddfd1ad90e"
      },
      "source": [
        "for value1 in range (1,11):\r\n",
        "    for value2 in range(1,6):\r\n",
        "        #print(value1,value2, end = '\\t')\r\n",
        "        print(value1*value2,end = '\\t')\r\n",
        "    print('\\n')"
      ],
      "execution_count": 49,
      "outputs": [
        {
          "output_type": "stream",
          "text": [
            "1\t2\t3\t4\t5\t\n",
            "\n",
            "2\t4\t6\t8\t10\t\n",
            "\n",
            "3\t6\t9\t12\t15\t\n",
            "\n",
            "4\t8\t12\t16\t20\t\n",
            "\n",
            "5\t10\t15\t20\t25\t\n",
            "\n",
            "6\t12\t18\t24\t30\t\n",
            "\n",
            "7\t14\t21\t28\t35\t\n",
            "\n",
            "8\t16\t24\t32\t40\t\n",
            "\n",
            "9\t18\t27\t36\t45\t\n",
            "\n",
            "10\t20\t30\t40\t50\t\n",
            "\n"
          ],
          "name": "stdout"
        }
      ]
    },
    {
      "cell_type": "code",
      "metadata": {
        "colab": {
          "base_uri": "https://localhost:8080/"
        },
        "id": "3aAdZj3jUp-k",
        "outputId": "3d5da080-abd9-4b61-d89d-35a62832dce1"
      },
      "source": [
        "print(10,'hi',end = '\\t',sep=';')\r\n",
        "print('python')\r\n",
        "print(\"1,2,33\")"
      ],
      "execution_count": 53,
      "outputs": [
        {
          "output_type": "stream",
          "text": [
            "10;hi\tpython\n",
            "1,2,33\n"
          ],
          "name": "stdout"
        }
      ]
    },
    {
      "cell_type": "code",
      "metadata": {
        "colab": {
          "base_uri": "https://localhost:8080/"
        },
        "id": "B4lNtqXbV9K9",
        "outputId": "01867805-b3de-47ad-ae08-2f8834875be9"
      },
      "source": [
        "print(10,'hi',end = '\\t',sep=';')\r\n",
        "print('abcd')\r\n",
        "print('python')\r\n",
        "print(\"1,2,33\")"
      ],
      "execution_count": 54,
      "outputs": [
        {
          "output_type": "stream",
          "text": [
            "10;hi\tabcd\n",
            "python\n",
            "1,2,33\n"
          ],
          "name": "stdout"
        }
      ]
    },
    {
      "cell_type": "code",
      "metadata": {
        "colab": {
          "base_uri": "https://localhost:8080/"
        },
        "id": "kHdpJ4BRWSaX",
        "outputId": "509f6a8d-e12d-4d82-cb79-06fe6b76d09b"
      },
      "source": [
        "for value1 in range(1,5):\r\n",
        "    for value2 in range(100,103):\r\n",
        "        print(value1,value2)"
      ],
      "execution_count": 56,
      "outputs": [
        {
          "output_type": "stream",
          "text": [
            "1 100\n",
            "1 101\n",
            "1 102\n",
            "2 100\n",
            "2 101\n",
            "2 102\n",
            "3 100\n",
            "3 101\n",
            "3 102\n",
            "4 100\n",
            "4 101\n",
            "4 102\n"
          ],
          "name": "stdout"
        }
      ]
    },
    {
      "cell_type": "code",
      "metadata": {
        "colab": {
          "base_uri": "https://localhost:8080/"
        },
        "id": "nPHmtarKWxGN",
        "outputId": "7e368082-8ac4-491c-f71c-2db225dbc1cb"
      },
      "source": [
        "s = 'Python sample string'\r\n",
        "for value in s:\r\n",
        "    print(value)"
      ],
      "execution_count": 58,
      "outputs": [
        {
          "output_type": "stream",
          "text": [
            "P\n",
            "y\n",
            "t\n",
            "h\n",
            "o\n",
            "n\n",
            " \n",
            "s\n",
            "a\n",
            "m\n",
            "p\n",
            "l\n",
            "e\n",
            " \n",
            "s\n",
            "t\n",
            "r\n",
            "i\n",
            "n\n",
            "g\n"
          ],
          "name": "stdout"
        }
      ]
    },
    {
      "cell_type": "code",
      "metadata": {
        "colab": {
          "base_uri": "https://localhost:8080/"
        },
        "id": "zFAGR7RSXFcl",
        "outputId": "dfa3e6c9-7484-4d31-d0c2-be35b8090cc8"
      },
      "source": [
        "s = 'Python sample string'\r\n",
        "for value in s:\r\n",
        "    print(value,end = '\\t')"
      ],
      "execution_count": 59,
      "outputs": [
        {
          "output_type": "stream",
          "text": [
            "P\ty\tt\th\to\tn\t \ts\ta\tm\tp\tl\te\t \ts\tt\tr\ti\tn\tg\t"
          ],
          "name": "stdout"
        }
      ]
    },
    {
      "cell_type": "code",
      "metadata": {
        "colab": {
          "base_uri": "https://localhost:8080/"
        },
        "id": "Ud3uY2y4XUAN",
        "outputId": "5ac3a9ec-551c-4f2f-ffb9-3ce08cd4132b"
      },
      "source": [
        "s = 'Python sample string'\r\n",
        "for value in s:\r\n",
        "    print(value,sep=',')"
      ],
      "execution_count": 61,
      "outputs": [
        {
          "output_type": "stream",
          "text": [
            "P\n",
            "y\n",
            "t\n",
            "h\n",
            "o\n",
            "n\n",
            " \n",
            "s\n",
            "a\n",
            "m\n",
            "p\n",
            "l\n",
            "e\n",
            " \n",
            "s\n",
            "t\n",
            "r\n",
            "i\n",
            "n\n",
            "g\n"
          ],
          "name": "stdout"
        }
      ]
    },
    {
      "cell_type": "code",
      "metadata": {
        "colab": {
          "base_uri": "https://localhost:8080/"
        },
        "id": "UUT5b5IpXZA1",
        "outputId": "37ed501f-0e93-414f-9c19-6a5a8bd0bc8f"
      },
      "source": [
        "s = 'Python sample string'\r\n",
        "for value in s:\r\n",
        "    print(value,end='\\t',sep=';')"
      ],
      "execution_count": 62,
      "outputs": [
        {
          "output_type": "stream",
          "text": [
            "P\ty\tt\th\to\tn\t \ts\ta\tm\tp\tl\te\t \ts\tt\tr\ti\tn\tg\t"
          ],
          "name": "stdout"
        }
      ]
    },
    {
      "cell_type": "code",
      "metadata": {
        "colab": {
          "base_uri": "https://localhost:8080/"
        },
        "id": "v-V43JQcXn19",
        "outputId": "c20e3d7f-b237-4421-c7b8-71c417287479"
      },
      "source": [
        "l = (10,20,'python',40)\r\n",
        "for value in l:\r\n",
        "    print(value)"
      ],
      "execution_count": 63,
      "outputs": [
        {
          "output_type": "stream",
          "text": [
            "10\n",
            "20\n",
            "python\n",
            "40\n"
          ],
          "name": "stdout"
        }
      ]
    },
    {
      "cell_type": "code",
      "metadata": {
        "colab": {
          "base_uri": "https://localhost:8080/"
        },
        "id": "sP30H_QKX6_d",
        "outputId": "29171724-be85-4fd7-bf86-acbe35710789"
      },
      "source": [
        "d = {1:1,2:4,3:9} #dict\r\n",
        "for x in d:\r\n",
        "    print(x)"
      ],
      "execution_count": 65,
      "outputs": [
        {
          "output_type": "stream",
          "text": [
            "1\n",
            "2\n",
            "3\n"
          ],
          "name": "stdout"
        }
      ]
    },
    {
      "cell_type": "code",
      "metadata": {
        "colab": {
          "base_uri": "https://localhost:8080/"
        },
        "id": "OQUVSxlNYLuH",
        "outputId": "47fd6891-af05-422f-c354-9acbf225c116"
      },
      "source": [
        "sum = 0\r\n",
        "count = 1 \r\n",
        "\r\n",
        "while count <= 20:\r\n",
        "    sum = sum + count \r\n",
        "    count+=1\r\n",
        "    \r\n",
        "print(sum)"
      ],
      "execution_count": 66,
      "outputs": [
        {
          "output_type": "stream",
          "text": [
            "210\n"
          ],
          "name": "stdout"
        }
      ]
    },
    {
      "cell_type": "code",
      "metadata": {
        "id": "Exrb2lvUYb4t"
      },
      "source": [
        ""
      ],
      "execution_count": null,
      "outputs": []
    }
  ]
}